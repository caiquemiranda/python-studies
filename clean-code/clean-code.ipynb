{
 "cells": [
  {
   "cell_type": "markdown",
   "metadata": {},
   "source": [
    "#### Boas Práticas de desenvolvimento de softwares que consiste em aplicar técnicas simples que facilitam a escrita e a leitura de um código. Tornando-o, assim, de fácil compreensão."
   ]
  },
  {
   "cell_type": "markdown",
   "metadata": {},
   "source": []
  },
  {
   "cell_type": "code",
   "execution_count": 3,
   "metadata": {},
   "outputs": [
    {
     "data": {
      "text/plain": [
       "365"
      ]
     },
     "execution_count": 3,
     "metadata": {},
     "output_type": "execute_result"
    }
   ],
   "source": [
    "# código ano bissexto\n",
    "'''\n",
    "ano = 2020\n",
    "dias = 365\n",
    "if (ano % 4 == 0 and ano % 100 ) or ano % 400 == 0:\n",
    "    dias =+ 1\n",
    "'''\n",
    "def ano_bissexto(ano):\n",
    "    if (ano % 4 == 0 and ano % 100 ) or ano % 400 == 0:\n",
    "        return True\n",
    "    else:\n",
    "        return False\n",
    "\n",
    "ano = 2019\n",
    "dias = 365\n",
    "if ano_bissexto(ano):\n",
    "    dias += 1   \n",
    "\n",
    "dias "
   ]
  },
  {
   "cell_type": "code",
   "execution_count": 5,
   "metadata": {},
   "outputs": [
    {
     "data": {
      "text/plain": [
       "'13 03 2022'"
      ]
     },
     "execution_count": 5,
     "metadata": {},
     "output_type": "execute_result"
    }
   ],
   "source": [
    "import datetime\n",
    "\n",
    "x = datetime.date.today().strftime('%d %m %Y')\n",
    "\n",
    "x"
   ]
  },
  {
   "cell_type": "code",
   "execution_count": 6,
   "metadata": {},
   "outputs": [
    {
     "data": {
      "text/plain": [
       "'13 03 2022'"
      ]
     },
     "execution_count": 6,
     "metadata": {},
     "output_type": "execute_result"
    }
   ],
   "source": [
    "# nomeação de variáveis\n",
    "data_de_hoje = datetime.date.today().strftime('%d %m %Y')\n",
    "\n",
    "data_de_hoje"
   ]
  },
  {
   "cell_type": "code",
   "execution_count": 7,
   "metadata": {},
   "outputs": [],
   "source": [
    "# clareza em descrever variáveis\n",
    "nome = 'Caique'\n",
    "nome_completo = 'Caique Miranda'"
   ]
  },
  {
   "cell_type": "code",
   "execution_count": 8,
   "metadata": {},
   "outputs": [
    {
     "data": {
      "text/plain": [
       "86400"
      ]
     },
     "execution_count": 8,
     "metadata": {},
     "output_type": "execute_result"
    }
   ],
   "source": [
    "# constantes preferência em maiusculo\n",
    "PI = 3.1415\n",
    "raio = 123\n",
    "\n",
    "area = PI * raio * raio\n",
    "\n",
    "# TOTAL_SEGUNDOS_DIA = 86400\n",
    "TOTAL_SEGUNDOS_DIA = 86_400 # separação de casas decimais com _ para ficar mais legível\n",
    "\n",
    "TOTAL_SEGUNDOS_DIA"
   ]
  },
  {
   "cell_type": "code",
   "execution_count": 9,
   "metadata": {},
   "outputs": [],
   "source": [
    "# Funções\n",
    "# funções são ações, primeira palavra verbo \n",
    "def calcula_idade(ano_nascimento):\n",
    "    pass"
   ]
  },
  {
   "cell_type": "code",
   "execution_count": 15,
   "metadata": {},
   "outputs": [],
   "source": [
    "# Classes \n",
    "# privacidade \n",
    "# publico, protegido( _paramentro ), privado( __privado)\n",
    "class LoginUsuario:\n",
    "    def __init__(self, param_a, param_b, param_c):\n",
    "        self.a = param_a\n",
    "        self._b = param_b\n",
    "        self.__c = param_c \n",
    "\n",
    "    def adicionar_usuario(self):\n",
    "        pass\n",
    "\n",
    "obj_login = LoginUsuario(100, 200, 300)"
   ]
  },
  {
   "cell_type": "code",
   "execution_count": 16,
   "metadata": {},
   "outputs": [
    {
     "data": {
      "text/plain": [
       "100"
      ]
     },
     "execution_count": 16,
     "metadata": {},
     "output_type": "execute_result"
    }
   ],
   "source": [
    "obj_login.a"
   ]
  },
  {
   "cell_type": "code",
   "execution_count": 17,
   "metadata": {},
   "outputs": [
    {
     "data": {
      "text/plain": [
       "200"
      ]
     },
     "execution_count": 17,
     "metadata": {},
     "output_type": "execute_result"
    }
   ],
   "source": [
    "obj_login._b"
   ]
  },
  {
   "cell_type": "code",
   "execution_count": 18,
   "metadata": {},
   "outputs": [
    {
     "ename": "AttributeError",
     "evalue": "'LoginUsuario' object has no attribute '__c'",
     "output_type": "error",
     "traceback": [
      "\u001b[1;31m---------------------------------------------------------------------------\u001b[0m",
      "\u001b[1;31mAttributeError\u001b[0m                            Traceback (most recent call last)",
      "\u001b[1;32m<ipython-input-18-aea2f764827d>\u001b[0m in \u001b[0;36m<module>\u001b[1;34m\u001b[0m\n\u001b[1;32m----> 1\u001b[1;33m \u001b[0mobj_login\u001b[0m\u001b[1;33m.\u001b[0m\u001b[0m__c\u001b[0m\u001b[1;33m\u001b[0m\u001b[1;33m\u001b[0m\u001b[0m\n\u001b[0m",
      "\u001b[1;31mAttributeError\u001b[0m: 'LoginUsuario' object has no attribute '__c'"
     ]
    }
   ],
   "source": [
    "obj_login.__c"
   ]
  },
  {
   "cell_type": "code",
   "execution_count": 19,
   "metadata": {},
   "outputs": [],
   "source": [
    "# caracteres por linha \n",
    "# recomendação limite de 79 caracteres\n",
    "\n",
    "def teste_de_tamanho(parametros, para, teste, \n",
    "                     da, funcao, com, muitos, \n",
    "                     caracteres,):\n",
    "    pass"
   ]
  },
  {
   "cell_type": "code",
   "execution_count": 21,
   "metadata": {},
   "outputs": [
    {
     "data": {
      "text/plain": [
       "(-0.6972243622680054, -4.302775637731995)"
      ]
     },
     "execution_count": 21,
     "metadata": {},
     "output_type": "execute_result"
    }
   ],
   "source": [
    "# comentários e docstrings\n",
    "import math\n",
    "\n",
    "def computa_raiz_quadrada(a, b, c):\n",
    "    # Computa a equação de segundo grau usando a formula de baskara.\n",
    "    #\n",
    "    # Ela retorna duas raizes.\n",
    "    delta = b ** 2 - 4 * a * c\n",
    "    x1 = (- b + math.sqrt(delta)) / (2 * a) # computa a primeira raiz.\n",
    "    x2 = (- b - math.sqrt(delta)) / (2 * a) # computa a segunda raiz.\n",
    "    return x1, x2\n",
    "\n",
    "computa_raiz_quadrada(1, 5, 3)"
   ]
  },
  {
   "cell_type": "code",
   "execution_count": null,
   "metadata": {},
   "outputs": [],
   "source": [
    "# comentários e docstrings\n",
    "import math\n",
    "\n",
    "def computa_raiz_quadrada(a, b, c):\n",
    "    '''Computa a equação de segundo grau usando a formula de baskara.\n",
    "    \n",
    "    Ela retorna duas raizes.\n",
    "\n",
    "    :param a: Constante a da equação.\n",
    "    :type a: float\n",
    "    :param b: Constante b da equação.\n",
    "    :type b: float\n",
    "    :param c: Constante c da equação.\n",
    "    :type c: float\n",
    "\n",
    "    :returns: duas raizes da equação\n",
    "    :rtype: tuple\n",
    "    '''\n",
    "    delta = b ** 2 - 4 * a * c\n",
    "    x1 = (- b + math.sqrt(delta)) / (2 * a) # computa a primeira raiz.\n",
    "    x2 = (- b - math.sqrt(delta)) / (2 * a) # computa a segunda raiz.\n",
    "    return x1, x2\n",
    "\n",
    "computa_raiz_quadrada(1, 5, 3)"
   ]
  }
 ],
 "metadata": {
  "interpreter": {
   "hash": "b3ba2566441a7c06988d0923437866b63cedc61552a5af99d1f4fb67d367b25f"
  },
  "kernelspec": {
   "display_name": "Python 3.8.8 ('base')",
   "language": "python",
   "name": "python3"
  },
  "language_info": {
   "codemirror_mode": {
    "name": "ipython",
    "version": 3
   },
   "file_extension": ".py",
   "mimetype": "text/x-python",
   "name": "python",
   "nbconvert_exporter": "python",
   "pygments_lexer": "ipython3",
   "version": "3.8.8"
  },
  "orig_nbformat": 4
 },
 "nbformat": 4,
 "nbformat_minor": 2
}
