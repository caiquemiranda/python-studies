{
 "cells": [
  {
   "cell_type": "code",
   "execution_count": 2,
   "metadata": {},
   "outputs": [
    {
     "name": "stdout",
     "output_type": "stream",
     "text": [
      " Km = 0.004\n",
      " hm = 0.04\n",
      " dam = 0.4\n",
      " m = 4.0\n",
      " dm = 40.0\n",
      " cm = 400.0\n",
      " mm = 4000.0\n"
     ]
    }
   ],
   "source": [
    "'''\n",
    "\n",
    "Conversor de medidas\n",
    "\n",
    "O usuário irá digitar o numeral em metros e o programa fará\n",
    "a conversão\n",
    "\n",
    "'''\n",
    "\n",
    "medida = float(input('Digite um numero em metros para conversão: '))\n",
    "\n",
    "km = medida*.001\n",
    "hm = medida*.01\n",
    "dam = medida*.1\n",
    "m = medida \n",
    "dm = medida*10\n",
    "cm = medida*100\n",
    "mm = medida*1000\n",
    "\n",
    "print(f' Km = {km}')\n",
    "print(f' hm = {hm}')\n",
    "print(f' dam = {dam}')\n",
    "print(f' m = {m}')\n",
    "print(f' dm = {dm}')\n",
    "print(f' cm = {cm}')\n",
    "print(f' mm = {mm}')"
   ]
  },
  {
   "cell_type": "code",
   "execution_count": 1,
   "metadata": {},
   "outputs": [
    {
     "name": "stdout",
     "output_type": "stream",
     "text": [
      "Após reajuste de 15% o novo salário do funcionario vai ser de 5750.0\n"
     ]
    }
   ],
   "source": [
    "\"\"\"\n",
    "\n",
    "Calculo de aumente de valor de salário, reajuste de 15%\n",
    "\n",
    "\"\"\"\n",
    "\n",
    "salario = float(input('Qual salário do funcuinário: '))\n",
    "novo_salario = salario * 1.15\n",
    "\n",
    "\n",
    "print(f'Após reajuste de 15% o novo salário do funcionario vai ser de {novo_salario}')\n"
   ]
  },
  {
   "cell_type": "code",
   "execution_count": 1,
   "metadata": {},
   "outputs": [
    {
     "name": "stdout",
     "output_type": "stream",
     "text": [
      "A temperatura25.0 em Cº corresponde a 298.15 em K\n"
     ]
    }
   ],
   "source": [
    "\"\"\"\n",
    "\n",
    "Conversor de Temperaturas\n",
    "\n",
    "\"\"\"\n",
    "\n",
    "temperatura_c = float(input('Informe a temperatura em Cº: '))\n",
    "\n",
    "temperatura_k = temperatura_c + 273.15\n",
    "\n",
    "print(f'A temperatura{temperatura_c} em Cº corresponde a {temperatura_k} em K')"
   ]
  }
 ],
 "metadata": {
  "interpreter": {
   "hash": "b3ba2566441a7c06988d0923437866b63cedc61552a5af99d1f4fb67d367b25f"
  },
  "kernelspec": {
   "display_name": "Python 3.8.8 ('base')",
   "language": "python",
   "name": "python3"
  },
  "language_info": {
   "codemirror_mode": {
    "name": "ipython",
    "version": 3
   },
   "file_extension": ".py",
   "mimetype": "text/x-python",
   "name": "python",
   "nbconvert_exporter": "python",
   "pygments_lexer": "ipython3",
   "version": "3.8.8"
  },
  "orig_nbformat": 4
 },
 "nbformat": 4,
 "nbformat_minor": 2
}
