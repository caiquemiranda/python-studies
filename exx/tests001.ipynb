{
 "cells": [
  {
   "cell_type": "code",
   "execution_count": 2,
   "metadata": {},
   "outputs": [
    {
     "name": "stdout",
     "output_type": "stream",
     "text": [
      " Km = 0.004\n",
      " hm = 0.04\n",
      " dam = 0.4\n",
      " m = 4.0\n",
      " dm = 40.0\n",
      " cm = 400.0\n",
      " mm = 4000.0\n"
     ]
    }
   ],
   "source": [
    "'''\n",
    "\n",
    "Conversor de medidas\n",
    "\n",
    "O usuário irá digitar o numeral em metros e o programa fará\n",
    "a conversão\n",
    "\n",
    "'''\n",
    "\n",
    "medida = float(input('Digite um numero em metros para conversão: '))\n",
    "\n",
    "km = medida*.001\n",
    "hm = medida*.01\n",
    "dam = medida*.1\n",
    "m = medida \n",
    "dm = medida*10\n",
    "cm = medida*100\n",
    "mm = medida*1000\n",
    "\n",
    "print(f' Km = {km}')\n",
    "print(f' hm = {hm}')\n",
    "print(f' dam = {dam}')\n",
    "print(f' m = {m}')\n",
    "print(f' dm = {dm}')\n",
    "print(f' cm = {cm}')\n",
    "print(f' mm = {mm}')"
   ]
  },
  {
   "cell_type": "code",
   "execution_count": 1,
   "metadata": {},
   "outputs": [
    {
     "name": "stdout",
     "output_type": "stream",
     "text": [
      "Após reajuste de 15% o novo salário do funcionario vai ser de 5750.0\n"
     ]
    }
   ],
   "source": [
    "\"\"\"\n",
    "\n",
    "Calculo de aumente de valor de salário, reajuste de 15%\n",
    "\n",
    "\"\"\"\n",
    "\n",
    "salario = float(input('Qual salário do funcuinário: '))\n",
    "novo_salario = salario * 1.15\n",
    "\n",
    "\n",
    "print(f'Após reajuste de 15% o novo salário do funcionario vai ser de {novo_salario}')\n"
   ]
  },
  {
   "cell_type": "code",
   "execution_count": 1,
   "metadata": {},
   "outputs": [
    {
     "name": "stdout",
     "output_type": "stream",
     "text": [
      "A temperatura25.0 em Cº corresponde a 298.15 em K\n"
     ]
    }
   ],
   "source": [
    "\"\"\"\n",
    "\n",
    "Conversor de Temperaturas\n",
    "\n",
    "\"\"\"\n",
    "\n",
    "temperatura_c = float(input('Informe a temperatura em Cº: '))\n",
    "\n",
    "temperatura_k = temperatura_c + 273.15\n",
    "\n",
    "print(f'A temperatura{temperatura_c} em Cº corresponde a {temperatura_k} em K')"
   ]
  },
  {
   "cell_type": "code",
   "execution_count": null,
   "metadata": {},
   "outputs": [],
   "source": [
    "'''\n",
    "1. Escreva um laço while para imprimir cada uma das seguintes situações:\n",
    "a. Todos os quadrados menores que n. Por exemplo, se n for 100, imprimir 0 1 4 9 16 25 36 49 64 81.\n",
    "b. Todos os números positivos que são divisíveis por 10 e menores que n. Por exemplo, se n for 100,\n",
    "imprimir 10 20 30 40 50 60 70 80 90.\n",
    "c. Todas as potências de dois menores que n. Por exemplo, se n for 100, imprimir 1 2 4 8 16 32 64.\n",
    "'''\n"
   ]
  },
  {
   "cell_type": "code",
   "execution_count": null,
   "metadata": {},
   "outputs": [],
   "source": [
    "'''\n",
    "2. Escreva um laço que calcule\n",
    "a. A soma de todos os números pares entre 2 e 100 (inclusive).\n",
    "b. A soma de todos os quadrados entre 1 e 100 (inclusive).\n",
    "c. A soma de todos os números ímpares entre a e b.\n",
    "d. A soma de todos os dígitos ímpares de n. (Por exemplo, se n for 32677, a soma deve ser 3 + 7 + 7 =\n",
    "17).\n",
    "'''"
   ]
  },
  {
   "cell_type": "code",
   "execution_count": null,
   "metadata": {},
   "outputs": [],
   "source": [
    "'''\n",
    "3. Forneça tabelas de rastreamento para os seguintes laços\n",
    "a. i = 0\n",
    "j = 10\n",
    "n = 0\n",
    "while i < j :\n",
    "i = i + 1\n",
    "j = j − 1\n",
    "n = n + 1\n",
    "b. i = 0\n",
    "j = 0\n",
    "n = 0\n",
    "while i < 10 :\n",
    "i = i + 1\n",
    "n = n + i + j\n",
    "j = j + 1\n",
    "c. i = 10\n",
    "j = 0\n",
    "n = 0\n",
    "while i > 0 :\n",
    "i = i – 1\n",
    "j = j + 1\n",
    "n = n + i ‐ j\n",
    "d. i = 0\n",
    "j = 10\n",
    "n = 0\n",
    "while i != j :\n",
    "i = i + 2\n",
    "j = j – 2\n",
    "n = n + 1\n",
    "'''"
   ]
  },
  {
   "cell_type": "code",
   "execution_count": null,
   "metadata": {},
   "outputs": [],
   "source": [
    "'''\n",
    "4. O que estes laços imprimem?\n",
    "a. for i in range(1, 10) :\n",
    "print(i)\n",
    "b. for i in range(1, 10, 2) :\n",
    "print(i)\n",
    "c. for i in range(10, 1, ‐1) :\n",
    "print(i)\n",
    "d. for i in range(10) :\n",
    "print(i)\n",
    "e. for i in range(1, 10) :\n",
    "if i % 2 == 0 :\n",
    "print(i)\n",
    "'''"
   ]
  },
  {
   "cell_type": "code",
   "execution_count": null,
   "metadata": {},
   "outputs": [],
   "source": [
    "'''\n",
    "5. Quais estruturas de laço o Python suporta? Dê um exemplo simples de uso apropriado para cada tipo\n",
    "de laço.\n",
    "'''"
   ]
  },
  {
   "cell_type": "code",
   "execution_count": null,
   "metadata": {},
   "outputs": [],
   "source": [
    "'''\n",
    "6. Quantas iterações os seguintes laços executam?\n",
    "a. for i in range(1, 11) . . .\n",
    "b. for i in range(10) . . .\n",
    "c. for i in range(10, 0, −1) . . .\n",
    "d. for i in range(−10, 11) . . .\n",
    "e. for i in range(10, 0) . . .\n",
    "f. for i in range(−10, 11, 2) . . .\n",
    "g. for i in range(−10, 11, 3) . . .\n",
    "'''"
   ]
  },
  {
   "cell_type": "code",
   "execution_count": null,
   "metadata": {},
   "outputs": [],
   "source": [
    "'''\n",
    "7. Escreva um pseudocódigo para um programa que imprima um calendário como o seguinte:\n",
    "DOM SEG TER QUA QUI SEX SAB\n",
    "1 2 3 4\n",
    "5 6 7 8 9 10 11\n",
    "12 13 14 15 16 17 18\n",
    "19 20 21 22 23 24 25\n",
    "26 27 28 29 30 32\n",
    "'''"
   ]
  },
  {
   "cell_type": "code",
   "execution_count": null,
   "metadata": {},
   "outputs": [],
   "source": [
    "'''\n",
    "Leia a idade do usuario e classifique em \n",
    "criança    -> 0-12 anos\n",
    "adolecente -> 13-17 anos\n",
    "adulto     -> acima de 18 anos\n",
    "* se o usuario digitar um numero invalido\n",
    "gerar uma msg que a idade é invalida\n",
    "'''\n",
    "\n",
    "print('=========================')\n",
    "idade = int(input('Digite sua idade: '))\n",
    "print('=========================')"
   ]
  }
 ],
 "metadata": {
  "interpreter": {
   "hash": "b3ba2566441a7c06988d0923437866b63cedc61552a5af99d1f4fb67d367b25f"
  },
  "kernelspec": {
   "display_name": "Python 3.8.8 ('base')",
   "language": "python",
   "name": "python3"
  },
  "language_info": {
   "codemirror_mode": {
    "name": "ipython",
    "version": 3
   },
   "file_extension": ".py",
   "mimetype": "text/x-python",
   "name": "python",
   "nbconvert_exporter": "python",
   "pygments_lexer": "ipython3",
   "version": "3.8.8"
  },
  "orig_nbformat": 4
 },
 "nbformat": 4,
 "nbformat_minor": 2
}
