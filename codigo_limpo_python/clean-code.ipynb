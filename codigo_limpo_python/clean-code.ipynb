{
 "cells": [
  {
   "cell_type": "markdown",
   "metadata": {},
   "source": [
    "#### Boas Práticas de desenvolvimento de softwares que consiste em aplicar técnicas simples que facilitam a escrita e a leitura de um código. Tornando-o, assim, de fácil compreensão."
   ]
  },
  {
   "cell_type": "code",
   "execution_count": 3,
   "metadata": {},
   "outputs": [
    {
     "data": {
      "text/plain": [
       "365"
      ]
     },
     "execution_count": 3,
     "metadata": {},
     "output_type": "execute_result"
    }
   ],
   "source": [
    "# código ano bissexto\n",
    "'''\n",
    "ano = 2020\n",
    "dias = 365\n",
    "if (ano % 4 == 0 and ano % 100 ) or ano % 400 == 0:\n",
    "    dias =+ 1\n",
    "'''\n",
    "def ano_bissexto(ano):\n",
    "    if (ano % 4 == 0 and ano % 100 ) or ano % 400 == 0:\n",
    "        return True\n",
    "    else:\n",
    "        return False\n",
    "\n",
    "ano = 2019\n",
    "dias = 365\n",
    "if ano_bissexto(ano):\n",
    "    dias += 1   \n",
    "\n",
    "dias "
   ]
  },
  {
   "cell_type": "code",
   "execution_count": 5,
   "metadata": {},
   "outputs": [
    {
     "data": {
      "text/plain": [
       "'13 03 2022'"
      ]
     },
     "execution_count": 5,
     "metadata": {},
     "output_type": "execute_result"
    }
   ],
   "source": [
    "import datetime\n",
    "\n",
    "x = datetime.date.today().strftime('%d %m %Y')\n",
    "\n",
    "x"
   ]
  },
  {
   "cell_type": "code",
   "execution_count": 6,
   "metadata": {},
   "outputs": [
    {
     "data": {
      "text/plain": [
       "'13 03 2022'"
      ]
     },
     "execution_count": 6,
     "metadata": {},
     "output_type": "execute_result"
    }
   ],
   "source": [
    "# nomeação de variáveis\n",
    "data_de_hoje = datetime.date.today().strftime('%d %m %Y')\n",
    "\n",
    "data_de_hoje"
   ]
  },
  {
   "cell_type": "code",
   "execution_count": 7,
   "metadata": {},
   "outputs": [],
   "source": [
    "# clareza em descrever variáveis\n",
    "nome = 'Caique'\n",
    "nome_completo = 'Caique Miranda'"
   ]
  },
  {
   "cell_type": "code",
   "execution_count": 8,
   "metadata": {},
   "outputs": [
    {
     "data": {
      "text/plain": [
       "86400"
      ]
     },
     "execution_count": 8,
     "metadata": {},
     "output_type": "execute_result"
    }
   ],
   "source": [
    "# constantes preferência em maiusculo\n",
    "PI = 3.1415\n",
    "raio = 123\n",
    "\n",
    "area = PI * raio * raio\n",
    "\n",
    "# TOTAL_SEGUNDOS_DIA = 86400\n",
    "TOTAL_SEGUNDOS_DIA = 86_400 # separação de casas decimais com _ para ficar mais legível\n",
    "\n",
    "TOTAL_SEGUNDOS_DIA"
   ]
  },
  {
   "cell_type": "code",
   "execution_count": 9,
   "metadata": {},
   "outputs": [],
   "source": [
    "# Funções\n",
    "# funções são ações, primeira palavra verbo \n",
    "def calcula_idade(ano_nascimento):\n",
    "    pass"
   ]
  },
  {
   "cell_type": "code",
   "execution_count": 15,
   "metadata": {},
   "outputs": [],
   "source": [
    "# Classes \n",
    "# privacidade \n",
    "# publico, protegido( _paramentro ), privado( __privado)\n",
    "class LoginUsuario:\n",
    "    def __init__(self, param_a, param_b, param_c):\n",
    "        self.a = param_a\n",
    "        self._b = param_b\n",
    "        self.__c = param_c \n",
    "\n",
    "    def adicionar_usuario(self):\n",
    "        pass\n",
    "\n",
    "obj_login = LoginUsuario(100, 200, 300)"
   ]
  },
  {
   "cell_type": "code",
   "execution_count": 16,
   "metadata": {},
   "outputs": [
    {
     "data": {
      "text/plain": [
       "100"
      ]
     },
     "execution_count": 16,
     "metadata": {},
     "output_type": "execute_result"
    }
   ],
   "source": [
    "obj_login.a"
   ]
  },
  {
   "cell_type": "code",
   "execution_count": 17,
   "metadata": {},
   "outputs": [
    {
     "data": {
      "text/plain": [
       "200"
      ]
     },
     "execution_count": 17,
     "metadata": {},
     "output_type": "execute_result"
    }
   ],
   "source": [
    "obj_login._b"
   ]
  },
  {
   "cell_type": "code",
   "execution_count": 18,
   "metadata": {},
   "outputs": [
    {
     "ename": "AttributeError",
     "evalue": "'LoginUsuario' object has no attribute '__c'",
     "output_type": "error",
     "traceback": [
      "\u001b[1;31m---------------------------------------------------------------------------\u001b[0m",
      "\u001b[1;31mAttributeError\u001b[0m                            Traceback (most recent call last)",
      "\u001b[1;32m<ipython-input-18-aea2f764827d>\u001b[0m in \u001b[0;36m<module>\u001b[1;34m\u001b[0m\n\u001b[1;32m----> 1\u001b[1;33m \u001b[0mobj_login\u001b[0m\u001b[1;33m.\u001b[0m\u001b[0m__c\u001b[0m\u001b[1;33m\u001b[0m\u001b[1;33m\u001b[0m\u001b[0m\n\u001b[0m",
      "\u001b[1;31mAttributeError\u001b[0m: 'LoginUsuario' object has no attribute '__c'"
     ]
    }
   ],
   "source": [
    "obj_login.__c"
   ]
  },
  {
   "cell_type": "code",
   "execution_count": 19,
   "metadata": {},
   "outputs": [],
   "source": [
    "# caracteres por linha \n",
    "# recomendação limite de 79 caracteres\n",
    "\n",
    "def teste_de_tamanho(parametros, para, teste, \n",
    "                     da, funcao, com, muitos, \n",
    "                     caracteres,):\n",
    "    pass"
   ]
  },
  {
   "cell_type": "code",
   "execution_count": 21,
   "metadata": {},
   "outputs": [
    {
     "data": {
      "text/plain": [
       "(-0.6972243622680054, -4.302775637731995)"
      ]
     },
     "execution_count": 21,
     "metadata": {},
     "output_type": "execute_result"
    }
   ],
   "source": [
    "# comentários e docstrings\n",
    "import math\n",
    "\n",
    "def computa_raiz_quadrada(a, b, c):\n",
    "    # Computa a equação de segundo grau usando a formula de baskara.\n",
    "    #\n",
    "    # Ela retorna duas raizes.\n",
    "    delta = b ** 2 - 4 * a * c\n",
    "    x1 = (- b + math.sqrt(delta)) / (2 * a) # computa a primeira raiz.\n",
    "    x2 = (- b - math.sqrt(delta)) / (2 * a) # computa a segunda raiz.\n",
    "    return x1, x2\n",
    "\n",
    "computa_raiz_quadrada(1, 5, 3)"
   ]
  },
  {
   "cell_type": "code",
   "execution_count": null,
   "metadata": {},
   "outputs": [],
   "source": [
    "# comentários e docstrings\n",
    "import math\n",
    "\n",
    "def computa_raiz_quadrada(a, b, c):\n",
    "    '''Computa a equação de segundo grau usando a formula de baskara.\n",
    "    \n",
    "    Ela retorna duas raizes.\n",
    "\n",
    "    :param a: Constante a da equação.\n",
    "    :type a: float\n",
    "    :param b: Constante b da equação.\n",
    "    :type b: float\n",
    "    :param c: Constante c da equação.\n",
    "    :type c: float\n",
    "\n",
    "    :returns: duas raizes da equação\n",
    "    :rtype: tuple\n",
    "    '''\n",
    "    delta = b ** 2 - 4 * a * c\n",
    "    x1 = (- b + math.sqrt(delta)) / (2 * a) # computa a primeira raiz.\n",
    "    x2 = (- b - math.sqrt(delta)) / (2 * a) # computa a segunda raiz.\n",
    "    return x1, x2\n",
    "\n",
    "computa_raiz_quadrada(1, 5, 3)"
   ]
  },
  {
   "cell_type": "code",
   "execution_count": 27,
   "metadata": {},
   "outputs": [],
   "source": [
    "# expressões lamba\n",
    "\n",
    "usuarios = [\n",
    "    {'primeiro_nome':'Gabriel', 'idade':29},\n",
    "    {'primeiro_nome':'Helder', 'idade':25},\n",
    "    {'primeiro_nome':'Caique', 'idade':28}\n",
    "]"
   ]
  },
  {
   "cell_type": "code",
   "execution_count": 28,
   "metadata": {},
   "outputs": [
    {
     "data": {
      "text/plain": [
       "[{'primeiro_nome': 'Gabriel', 'idade': 29},\n",
       " {'primeiro_nome': 'Helder', 'idade': 25},\n",
       " {'primeiro_nome': 'Caique', 'idade': 28}]"
      ]
     },
     "execution_count": 28,
     "metadata": {},
     "output_type": "execute_result"
    }
   ],
   "source": [
    "usuarios"
   ]
  },
  {
   "cell_type": "code",
   "execution_count": 29,
   "metadata": {},
   "outputs": [
    {
     "data": {
      "text/plain": [
       "[{'primeiro_nome': 'Caique', 'idade': 28},\n",
       " {'primeiro_nome': 'Gabriel', 'idade': 29},\n",
       " {'primeiro_nome': 'Helder', 'idade': 25}]"
      ]
     },
     "execution_count": 29,
     "metadata": {},
     "output_type": "execute_result"
    }
   ],
   "source": [
    "usuarios_ordenados = sorted(usuarios, key=lambda u: u['primeiro_nome'].lower())\n",
    "usuarios_ordenados"
   ]
  },
  {
   "cell_type": "code",
   "execution_count": 32,
   "metadata": {},
   "outputs": [
    {
     "data": {
      "text/plain": [
       "[{'primeiro_nome': 'Caique', 'idade': 28},\n",
       " {'primeiro_nome': 'Gabriel', 'idade': 29},\n",
       " {'primeiro_nome': 'Helder', 'idade': 25}]"
      ]
     },
     "execution_count": 32,
     "metadata": {},
     "output_type": "execute_result"
    }
   ],
   "source": [
    "usuarios = [\n",
    "    {'primeiro_nome':'Gabriel', 'idade':29},\n",
    "    {'primeiro_nome':'Helder', 'idade':25},\n",
    "    {'primeiro_nome':'Caique', 'idade':28}\n",
    "]\n",
    "\n",
    "def retona_nomes_em_minusculo(usuarios):\n",
    "    return usuarios['primeiro_nome'].lower()\n",
    "\n",
    "usuarios_ordenados = sorted(usuarios, key=retona_nomes_em_minusculo)\n",
    "usuarios_ordenados"
   ]
  },
  {
   "cell_type": "code",
   "execution_count": 35,
   "metadata": {},
   "outputs": [
    {
     "data": {
      "text/plain": [
       "'Caique Miranda'"
      ]
     },
     "execution_count": 35,
     "metadata": {},
     "output_type": "execute_result"
    }
   ],
   "source": [
    "# uso de join() ao invés de somar strings\n",
    "\n",
    "primeiro_nome = 'Caique'\n",
    "ultimo_nome = 'Miranda'\n",
    "\n",
    "'''\n",
    "nome_completo = primeiro_nome + ultimo_nome\n",
    "nome_completo\n",
    "'''\n",
    "\n",
    "nome_completo = ' '.join([primeiro_nome, ultimo_nome])\n",
    "nome_completo"
   ]
  },
  {
   "cell_type": "code",
   "execution_count": 41,
   "metadata": {},
   "outputs": [
    {
     "name": "stdout",
     "output_type": "stream",
     "text": [
      "x é válido\n"
     ]
    }
   ],
   "source": [
    "# uso de 'is' e 'not is'\n",
    "\n",
    "x = 13\n",
    "\n",
    "if x is not None:\n",
    "    print('x é válido')\n",
    "\n",
    "if x is None:\n",
    "    print('x é Inválido')"
   ]
  },
  {
   "cell_type": "code",
   "execution_count": 43,
   "metadata": {},
   "outputs": [
    {
     "name": "stdout",
     "output_type": "stream",
     "text": [
      "True\n",
      "False\n"
     ]
    }
   ],
   "source": [
    "# retornar algo explícito sempre\n",
    "\n",
    "def verifica_par(x):\n",
    "    if x % 2 == 0:\n",
    "        return True\n",
    "    else:\n",
    "        return False\n",
    "\n",
    "print(verifica_par(10))\n",
    "print(verifica_par(5))"
   ]
  },
  {
   "cell_type": "code",
   "execution_count": 44,
   "metadata": {},
   "outputs": [
    {
     "name": "stdout",
     "output_type": "stream",
     "text": [
      "O arquivo é uma imagem\n"
     ]
    }
   ],
   "source": [
    "# uso de startwith() e endwith()\n",
    "\n",
    "arquivo = 'exemplo.jpg'\n",
    "\n",
    "if arquivo.endswith('jpg') or arquivo.endswith('jpeg'):\n",
    "    print('O arquivo é uma imagem')"
   ]
  },
  {
   "cell_type": "code",
   "execution_count": 45,
   "metadata": {},
   "outputs": [
    {
     "name": "stdout",
     "output_type": "stream",
     "text": [
      "Valor é inteiro\n"
     ]
    }
   ],
   "source": [
    "# comparação de tipos com isinstance()\n",
    "\n",
    "x = 207\n",
    "\n",
    "if isinstance(x, int):\n",
    "    print('Valor é inteiro')"
   ]
  },
  {
   "cell_type": "code",
   "execution_count": 46,
   "metadata": {},
   "outputs": [
    {
     "data": {
      "text/plain": [
       "(False, True)"
      ]
     },
     "execution_count": 46,
     "metadata": {},
     "output_type": "execute_result"
    }
   ],
   "source": [
    "class Veiculo:\n",
    "    pass\n",
    "\n",
    "\n",
    "class Caminhao(Veiculo):\n",
    "    pass\n",
    "\n",
    "v = Veiculo()\n",
    "c = Caminhao()\n",
    "\n",
    "type(c) == Veiculo(), isinstance(c, Veiculo)"
   ]
  },
  {
   "cell_type": "code",
   "execution_count": 2,
   "metadata": {},
   "outputs": [],
   "source": [
    "# uso de with para abertura de arquivos\n",
    "\n",
    "f = open('novo_arquivo.txt', 'w')\n",
    "f.write('hello word!')\n",
    "f.close()"
   ]
  },
  {
   "cell_type": "code",
   "execution_count": 3,
   "metadata": {},
   "outputs": [],
   "source": [
    "with open('novo_arquivo.txt', 'w') as file:\n",
    "    file.write('hello word !')"
   ]
  },
  {
   "cell_type": "code",
   "execution_count": 4,
   "metadata": {},
   "outputs": [
    {
     "data": {
      "text/plain": [
       "[2, 4, 6, 8, 10, 12]"
      ]
     },
     "execution_count": 4,
     "metadata": {},
     "output_type": "execute_result"
    }
   ],
   "source": [
    "# uso de compreensões de lista\n",
    "\n",
    "lista_antiga = [1, 2, 3, 4, 5, 6]\n",
    "\n",
    "nova_lista = [item * 2 for item in lista_antiga]\n",
    "\n",
    "nova_lista"
   ]
  },
  {
   "cell_type": "code",
   "execution_count": 5,
   "metadata": {},
   "outputs": [],
   "source": [
    "def mutiplica_lista(lista):\n",
    "    nova_lista =[]\n",
    "    for i in lista:\n",
    "        nova_lista.append(i * 2)\n",
    "    \n",
    "    return nova_lista"
   ]
  },
  {
   "cell_type": "code",
   "execution_count": 6,
   "metadata": {},
   "outputs": [
    {
     "data": {
      "text/plain": [
       "[2, 4, 6, 8, 10, 12]"
      ]
     },
     "execution_count": 6,
     "metadata": {},
     "output_type": "execute_result"
    }
   ],
   "source": [
    "mutiplica_lista(lista_antiga)"
   ]
  },
  {
   "cell_type": "code",
   "execution_count": null,
   "metadata": {},
   "outputs": [],
   "source": []
  }
 ],
 "metadata": {
  "kernelspec": {
   "display_name": "Python 3.10.5 64-bit",
   "language": "python",
   "name": "python3"
  },
  "language_info": {
   "codemirror_mode": {
    "name": "ipython",
    "version": 3
   },
   "file_extension": ".py",
   "mimetype": "text/x-python",
   "name": "python",
   "nbconvert_exporter": "python",
   "pygments_lexer": "ipython3",
   "version": "3.10.5"
  },
  "orig_nbformat": 4,
  "vscode": {
   "interpreter": {
    "hash": "74af3d2f25f1e46ebd2903d59225d79e4675ec224d56c01fc30cd168c2010d53"
   }
  }
 },
 "nbformat": 4,
 "nbformat_minor": 2
}
