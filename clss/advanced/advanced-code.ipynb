{
 "cells": [
  {
   "cell_type": "markdown",
   "metadata": {},
   "source": [
    "### Comentários no código"
   ]
  },
  {
   "cell_type": "code",
   "execution_count": 1,
   "metadata": {},
   "outputs": [
    {
     "data": {
      "text/plain": [
       "'\\n\\n(aspas duplas)\\n\\nTodo codigo contido dentro das \\naspas triplas\\n\\n'"
      ]
     },
     "execution_count": 1,
     "metadata": {},
     "output_type": "execute_result"
    }
   ],
   "source": [
    "# Apenas uma linha\n",
    "\n",
    "# ------------------------------------------\n",
    "\n",
    "'''\n",
    "\n",
    "Todo codigo contido dentro das aspas triplas\n",
    "\n",
    "(aspas simples)\n",
    "\n",
    "'''\n",
    "\n",
    "\"\"\"\n",
    "\n",
    "\n",
    "Todo codigo contido dentro das aspas triplas\n",
    "\n",
    "(aspas duplas)\n",
    "\n",
    "\"\"\""
   ]
  },
  {
   "cell_type": "code",
   "execution_count": null,
   "metadata": {},
   "outputs": [],
   "source": []
  }
 ],
 "metadata": {
  "interpreter": {
   "hash": "c1c6012700f12de55f8e0fcc4d692549fb71199068374c43eaca7d87c58b71b9"
  },
  "kernelspec": {
   "display_name": "Python 3.8.10 64-bit (system)",
   "language": "python",
   "name": "python3"
  },
  "language_info": {
   "codemirror_mode": {
    "name": "ipython",
    "version": 3
   },
   "file_extension": ".py",
   "mimetype": "text/x-python",
   "name": "python",
   "nbconvert_exporter": "python",
   "pygments_lexer": "ipython3",
   "version": "3.8.10"
  },
  "orig_nbformat": 4
 },
 "nbformat": 4,
 "nbformat_minor": 2
}
